{
 "cells": [
  {
   "cell_type": "markdown",
   "metadata": {},
   "source": [
    "## Intermediate tools of NumPy for scientific computing"
   ]
  },
  {
   "cell_type": "markdown",
   "metadata": {},
   "source": [
    "### About\n",
    "\n",
    "- This tutorial builds on [`numpy_basics.ipynb`](https://github.com/jhparkyb/NumAnalNotes_Pub/blob/master/computations/numpy_basics.ipynb). \n",
    "- `numpy_intermediate.ipynb` collects tools geared towards a more detailed needs while `numpy_basics.ipynb` is a quick start toolbox for an Introductory Numerical Analysis course. \n",
    "\n",
    "Author: Jea-Hyun Park\n",
    "\n"
   ]
  },
  {
   "cell_type": "markdown",
   "metadata": {},
   "source": [
    "### License\n",
    "\n",
    "This work is licensed under [Creative Commons Attribution-ShareAlike 4.0 International](https://creativecommons.org/licenses/by-sa/4.0/)\n",
    "Part of the content of this notebook is borrowed from various reference, which are linked for more details. Thanks to all great contributors."
   ]
  },
  {
   "cell_type": "markdown",
   "metadata": {},
   "source": [
    "#### `nonzero` (returns fancy indexing)\n",
    "\n",
    "- `numpy.nonzero` returns a fancy indexing type arrays where nonzero elements are located.\n",
    "- `numpy.nonzero` can be combined with masking since `True` is treated as `1` (nonzero) and `False` as `0`.\n",
    "- It can be used as a method: `arr.nonzero()` is equivalent to `numpy.nonzero(arr)`."
   ]
  },
  {
   "cell_type": "code",
   "execution_count": 13,
   "metadata": {},
   "outputs": [
    {
     "name": "stdout",
     "output_type": "stream",
     "text": [
      "original array:\n",
      " [[3 0 0]\n",
      " [0 4 0]\n",
      " [5 6 0]]\n",
      "indices of non-zero elements:\n",
      " (array([0, 1, 2, 2]), array([0, 1, 0, 1]))\n",
      "non-zero elements:\n",
      " [3 4 5 6]\n"
     ]
    }
   ],
   "source": [
    "import numpy as np\n",
    "\n",
    "x = np.array([[3, 0, 0], [0, 4, 0], [5, 6, 0]])\n",
    "ind = np.nonzero(x)\n",
    "x_nonzero = x[ind]\n",
    "\n",
    "print(\"original array:\\n\", x)\n",
    "print(\"indices of non-zero elements:\\n\", ind)\n",
    "print(\"non-zero elements:\\n\", x_nonzero)\n"
   ]
  },
  {
   "cell_type": "code",
   "execution_count": 16,
   "metadata": {},
   "outputs": [
    {
     "name": "stdout",
     "output_type": "stream",
     "text": [
      "array:\n",
      " [[1 2 3]\n",
      " [4 5 6]\n",
      " [7 8 9]]\n",
      "mask:\n",
      " [[False False False]\n",
      " [False False  True]\n",
      " [ True  True  True]]\n",
      "indices of non-zero elements:\n",
      " (array([1, 2, 2, 2]), array([2, 0, 1, 2]))\n",
      "a[np.nonzero(a > 5)]:\n",
      " [6 7 8 9]\n",
      "a[a > 5]:\n",
      " [6 7 8 9]\n"
     ]
    }
   ],
   "source": [
    "a = np.array([[1, 2, 3], [4, 5, 6], [7, 8, 9]])\n",
    "mask = a > 5\n",
    "ind_nonzero = np.nonzero(mask)\n",
    "\n",
    "print(\"array:\\n\", a)\n",
    "print(\"mask:\\n\", mask)\n",
    "print(\"indices of non-zero elements:\\n\", ind_nonzero)\n",
    "\n",
    "# `np.nonzero` can be used similarly to masking\n",
    "print(\"a[np.nonzero(a > 5)]:\\n\",a[np.nonzero(a > 5)])\n",
    "print(\"a[a > 5]:\\n\", a[a > 5])"
   ]
  },
  {
   "cell_type": "markdown",
   "metadata": {},
   "source": [
    "#### Array computation rules\n",
    "\n",
    "1. Operations between multiple array objects are first checked for proper shape match (*broadcasting*).\n",
    "1. All operations and functions are element-wise.\n",
    "2. Reduction operations (`numpy.mean`, `numpy.std`, `numpy.sum`, `numpy.prod`, `numpy.max`, `numpy.min`, etc) apply to the whole array, unless an `axis` is specified.\n",
    "    - For example, `np.sum(a, axis = 0)` means 'sum entries of array `a` **along** axis 0 (the outer most index according to *row-major* rule)'. Therefore, the axis feeded will go away.\n",
    "    - `axis = -1` always sum along the inner most index, i.e. it aggregates each column vectors. (See [Row-major high-dimensional arrays](#row-major-high-dimensional-arrays))\n",
    "3. Missing values (`nan`, stands for 'not a number') propagate unless explicitely ignored (`numpy.nanmean`, `numpy.nansum`, etc)."
   ]
  },
  {
   "cell_type": "code",
   "execution_count": null,
   "metadata": {},
   "outputs": [],
   "source": [
    "import numpy as np\n",
    "\n",
    "# rule 4: nan propagate unless using \n",
    "a = np.array([np.nan, 1, 3, 5])\n",
    "print(a)\n",
    "print(np.mean(a)) # take average including nan's\n",
    "print(np.nanmean(a)) # take average excluding nan's"
   ]
  },
  {
   "cell_type": "markdown",
   "metadata": {},
   "source": [
    "#### Reshape and transpose\n"
   ]
  },
  {
   "cell_type": "markdown",
   "metadata": {},
   "source": [
    "##### Reshape and transpose behave differently"
   ]
  },
  {
   "cell_type": "code",
   "execution_count": 4,
   "metadata": {},
   "outputs": [
    {
     "name": "stdout",
     "output_type": "stream",
     "text": [
      "a original (5,3)\n",
      " [[ 0.  1.  2.]\n",
      " [ 3.  4.  5.]\n",
      " [ 6.  7.  8.]\n",
      " [ 9. 10. 11.]\n",
      " [12. 13. 14.]]\n",
      "a reshaped to (3,5)\n",
      " [[ 0.  1.  2.  3.  4.]\n",
      " [ 5.  6.  7.  8.  9.]\n",
      " [10. 11. 12. 13. 14.]]\n",
      "a transposed to (3,5)\n",
      " [[ 0.  3.  6.  9. 12.]\n",
      " [ 1.  4.  7. 10. 13.]\n",
      " [ 2.  5.  8. 11. 14.]]\n"
     ]
    }
   ],
   "source": [
    "import numpy as np\n",
    "\n",
    "# reshape vs transpose\n",
    "a_orig = np.arange(5*3, dtype=np.float64).reshape((5,3))\n",
    "\n",
    "a_reshaped = a_orig.reshape(3,5)\n",
    "a_transposed = a_orig.T\n",
    "\n",
    "print(\"a original (5,3)\\n\", a_orig)\n",
    "print(\"a reshaped to (3,5)\\n\", a_reshaped)\n",
    "print(\"a transposed to (3,5)\\n\", a_transposed)"
   ]
  },
  {
   "cell_type": "markdown",
   "metadata": {},
   "source": [
    "##### Reshaped data access: linear index\n",
    "\n",
    "> **Summary**\n",
    ">\n",
    "> `arr_ori[ind1]==arr_reshaped[ind2]` iff linear index of `ind1` = `ind2`\n",
    "\n",
    "\n",
    "- The original array and the new array has the same data iff their linear indices are the same.\n",
    "- How to get multidimensional index from a linear index: `multi_dim_ind = np.unravel_index(lin_index, shape)`.\n",
    "- How to get linear index from a multidimensional index: `lin_ind = np.ravel_multi_index(multi_int, shape)`.\n",
    "  - These can be used to conduct mutiple such tasks by passing `dim=` parameter. (See the documentation for detail.)\n",
    "  - These can do the *column-major* version by passing `order=` parameter. (See the documentation for detail.)"
   ]
  },
  {
   "cell_type": "code",
   "execution_count": 12,
   "metadata": {},
   "outputs": [
    {
     "name": "stdout",
     "output_type": "stream",
     "text": [
      "original: (1, 0, 2, 3) 0.17226201704659516\n",
      "reshaped: (1, 3, 1, 3) 0.17226201704659516\n",
      "linear index of original array: 122\n",
      "linear index of reshaped array: 122\n"
     ]
    }
   ],
   "source": [
    "import numpy as np\n",
    "\n",
    "# create an array with random entries, and its reshape\n",
    "arr_ori = np.random.rand(2, 3, 5, 7)\n",
    "arr_reshaped = arr_ori.reshape((3, 5, 2, 7))\n",
    "\n",
    "# Two indices for each array: These are chosen to be linear index (or flattened index) = 122 (less than 2*3*5*7 = 210)\n",
    "fan_ind = (1,0,2,3)\n",
    "ind_reshaped = (1,3,1,3)\n",
    "\n",
    "# print the values of the two indices\n",
    "print(\"original:\", fan_ind, arr_ori[fan_ind])\n",
    "print(\"reshaped:\", ind_reshaped, arr_reshaped[ind_reshaped])\n",
    "\n",
    "# print the linear index of the two indices\n",
    "print(\"linear index of original array:\", np.ravel_multi_index(fan_ind, (2,3,5,7)))\n",
    "print(\"linear index of reshaped array:\", np.ravel_multi_index(ind_reshaped, (3,5,2,7)))\n"
   ]
  },
  {
   "cell_type": "markdown",
   "metadata": {},
   "source": [
    "##### Transpose data access: permutation\n",
    "\n",
    "- 1D array: `transpose` does NOTHING.\n",
    "- 2D array: `transpose` behaves the same way as matrix transpose.\n",
    "- High-diminsional array: Use permutation (usually a `tuple` of indices) to specify transpositions.\n",
    "  - Supposing we have named `perm` our permutation as in the example below, `perm` represents the *resulting* dimensions in terms of the origianl dimensions: `perm[i]`-th dimension of the new array = i-th dimension of the original array. (See the summary below.)\n",
    "\n",
    "> **Summary**\n",
    "> \n",
    "> Given `new = old.transpose(perm)`, we have\n",
    "> \n",
    "> - `new.shape[i] == old.shape[perm[i]] for i in range(old.ndim)` \n",
    "> - `old[ind_old] == new[ind_new]` iff `np.all([ind_new[i]==ind_old[perm[i]] for i in range(old.ndim)])` "
   ]
  },
  {
   "cell_type": "code",
   "execution_count": 34,
   "metadata": {},
   "outputs": [
    {
     "name": "stdout",
     "output_type": "stream",
     "text": [
      "[True, True, True, True]\n",
      "[True, True, True, True]\n",
      "original: (1, 0, -1, 5) 0.02619612663819626\n",
      "reshaped: (-1, 1, 5, 0) 0.02619612663819626\n",
      "Entry equality condition: True\n"
     ]
    }
   ],
   "source": [
    "import numpy as np\n",
    "\n",
    "# create an array with random entries, and its reshape\n",
    "arr_ori = np.random.rand(2, 3, 5, 7)\n",
    "\n",
    "# permutation of dimensions for transpose\n",
    "# new.shape[i] = old.shape[perm[i]] for i = 0, 1, 2, 3\n",
    "perm = (2, 0, 3, 1)\n",
    "arr_transposed = arr_ori.transpose(perm)\n",
    "\n",
    "# check the shape of the two arrays\n",
    "print([arr_transposed.shape[i] == arr_ori.shape[perm[i]] for i in range(arr_ori.ndim)])\n",
    "\n",
    "# Two indices using a permutation of dimensions\n",
    "fan_ind = (1,0,-1,5)\n",
    "ind_transposed = (-1,1,5,0)\n",
    "\n",
    "# print the values of the two indices\n",
    "print(\"original:\", fan_ind, arr_ori[fan_ind])\n",
    "print(\"reshaped:\", ind_transposed, arr_transposed[ind_transposed])\n",
    "print(\"Entry equality condition:\", np.all([ind_transposed[i]==fan_ind[perm[i]] for i in range(arr_ori.ndim)]))"
   ]
  },
  {
   "cell_type": "markdown",
   "metadata": {},
   "source": [
    "We can make the index conversion as a function to reuse conveniently."
   ]
  },
  {
   "cell_type": "code",
   "execution_count": 36,
   "metadata": {},
   "outputs": [
    {
     "name": "stdout",
     "output_type": "stream",
     "text": [
      "[True, True, True, True]\n",
      "original: (1, 0, -1, 5) 0.02619612663819626\n",
      "reshaped: (-1, 1, 5, 0) 0.02619612663819626\n",
      "Entry equality condition: True\n"
     ]
    }
   ],
   "source": [
    "def permute_index(ind_ori, perm):\n",
    "    \"\"\"Permute the index according to the permutation of dimensions\n",
    "\n",
    "    INPUTS:\n",
    "    -------\n",
    "    ind_ori: tuple\n",
    "        original index\n",
    "    perm: tuple\n",
    "        permutation of dimensions\n",
    "    OUTPUTS:\n",
    "    --------\n",
    "    ind_permuted: tuple\n",
    "        permuted index\n",
    "    \"\"\"\n",
    "    ind_permuted = tuple([ind_ori[perm[i]] for i in range(len(ind_ori))])\n",
    "    return ind_permuted\n",
    "\n",
    "ind_transposed = permute_index(fan_ind, perm) # using a function\n",
    "\n",
    "# check the index matching of the two arrays\n",
    "print([ind_transposed[i] == fan_ind[perm[i]] for i in range(arr_ori.ndim)])\n",
    "\n",
    "# print the values of the two indices\n",
    "print(\"original:\", fan_ind, arr_ori[fan_ind])\n",
    "print(\"reshaped:\", ind_transposed, arr_transposed[ind_transposed])\n",
    "print(\"Entry equality condition:\", np.all([ind_transposed[i]==fan_ind[perm[i]] for i in range(arr_ori.ndim)]))"
   ]
  },
  {
   "cell_type": "markdown",
   "metadata": {},
   "source": [
    "**Inversion of transpose**\n",
    "\n",
    "- Apply the inverse permutation.\n",
    "- NumPy offers `argsort` for this purpose (see the example below).\n",
    "- More explicitly, the inverse permutation is obtained by creating an array with its `perm[i]`-th entry being `i` back as its original had: `inv_perm[perm[i]]=i` for `i range in len(perm)`. A vectorized version reads: `inv_perm = np.zeros(len(perm), dtype=np.int64); inv_perm[perm] = arange(len(perm));`.\n",
    "- (Wrong way) Applying the same permutation twice results in something different since a permutation squared is not the identity permutation except for some special cases (with multipication being interpreted as compositions).\n",
    "\n",
    "> **Summary** (inversion of transposition)\n",
    "> \n",
    "> Given `perm` is used for transposition,\n",
    ">\n",
    "> - `arr_ori == arr_transposed.transpose(inv_perm)` iff `inv_perm == np.argsort(perm)`"
   ]
  },
  {
   "cell_type": "code",
   "execution_count": 49,
   "metadata": {},
   "outputs": [
    {
     "name": "stdout",
     "output_type": "stream",
     "text": [
      "original shape: (2, 3, 5, 7)\n",
      "transposed shape: (5, 2, 7, 3)\n",
      "(WRONG inversion) transposing twice using the same permutation: (7, 5, 3, 2)\n",
      "back to origianl (argsort): (2, 3, 5, 7)\n",
      "back to origianl (manual): (2, 3, 5, 7)\n",
      "Inverse permutation condition check: True\n",
      "Inverse permutation condition check: True\n"
     ]
    }
   ],
   "source": [
    "# inverting transposition using `argsort`, manual, vectorized manual\n",
    "inv_perm = np.argsort(perm)\n",
    "inv_perm_manual = (1,3,0,2)\n",
    "inv_perm_manual2 = np.zeros(len(perm), dtype=np.int64)\n",
    "inv_perm_manual2[np.array(perm)] = np.arange(len(perm))\n",
    "\n",
    "print(\"original shape:\", arr_ori.shape)\n",
    "print(\"transposed shape:\", arr_transposed.shape)\n",
    "print(\"(WRONG inversion) transposing twice using the same permutation:\", arr_transposed.transpose(perm).shape)\n",
    "print(\"back to origianl (argsort):\", arr_transposed.transpose(np.argsort(perm)).shape)\n",
    "print(\"back to origianl (manual):\", arr_transposed.transpose(inv_perm_manual).shape)\n",
    "\n",
    "print(\"Inverse permutation condition check:\", np.all(inv_perm_manual == np.argsort(perm)))\n",
    "print(\"Inverse permutation condition check:\", np.all(inv_perm_manual == inv_perm_manual2))"
   ]
  },
  {
   "cell_type": "markdown",
   "metadata": {},
   "source": [
    "#### `copysign`\n",
    "\n",
    "- We can give sign (`+` or `-`) we want using `copysign` function. \n",
    "- Basic syntax\n",
    "  - `numpy.copysign(magnitude_arr, sign_arr)` returns an array with the magnitude of `magnitude_arr` and the sign of `sign_arr`.\n",
    "- Native Python `math` module offers the same funcationality.\n",
    "- Treatment of 0.\n",
    "  - Python version: The documentation says that if the plaform support negative zero separately, then `-0.0` is considered `negative`.\n",
    "  - NumPy version: `numpy` documentation is not explicit about this. But apparently, it offers `0.0` and `-0.0` separately. And they are treated the same way as the Python version.\n",
    "\n",
    "See the [`copysign` documentation (NumPy)](https://numpy.org/doc/stable/reference/generated/numpy.copysign.html) and [`copysign` documentation (native Python)](https://docs.python.org/3/library/math.html#math.copysign) for more details."
   ]
  },
  {
   "cell_type": "code",
   "execution_count": 1,
   "metadata": {},
   "outputs": [
    {
     "name": "stdout",
     "output_type": "stream",
     "text": [
      "magnitude_arr: [1 2 3 4 5]\n",
      "sign_arr: [-2 -1  0  1  2]\n",
      "signed_arr: [-1. -2.  3.  4.  5.]\n"
     ]
    }
   ],
   "source": [
    "import numpy as np\n",
    "\n",
    "# magnitude and sign arrays\n",
    "magnitude_arr = np.array([1, 2, 3, 4, 5])\n",
    "sign_arr = np.arange(5) - 2\n",
    "\n",
    "# use `copysign` to create a signed array\n",
    "signed_arr = np.copysign(magnitude_arr, sign_arr)\n",
    "\n",
    "# print the arrays\n",
    "print(\"magnitude_arr:\", magnitude_arr)\n",
    "print(\"sign_arr:\", sign_arr)\n",
    "print(\"signed_arr:\", signed_arr)\n"
   ]
  },
  {
   "cell_type": "code",
   "execution_count": 8,
   "metadata": {},
   "outputs": [
    {
     "name": "stdout",
     "output_type": "stream",
     "text": [
      "[-inf]\n",
      "[inf]\n",
      "inf\n",
      "-inf\n"
     ]
    },
    {
     "name": "stderr",
     "output_type": "stream",
     "text": [
      "/tmp/ipykernel_26840/833596975.py:3: RuntimeWarning: divide by zero encountered in true_divide\n",
      "  print(1/np.array([-0.]))\n",
      "/tmp/ipykernel_26840/833596975.py:4: RuntimeWarning: divide by zero encountered in true_divide\n",
      "  print(1/np.array([0]))\n",
      "/tmp/ipykernel_26840/833596975.py:6: RuntimeWarning: divide by zero encountered in double_scalars\n",
      "  print(1/np.copysign(0, 1))\n",
      "/tmp/ipykernel_26840/833596975.py:7: RuntimeWarning: divide by zero encountered in double_scalars\n",
      "  print(1/np.copysign(0, -1))\n"
     ]
    }
   ],
   "source": [
    "# examples showing treatment of 0's\n",
    "\n",
    "print(1/np.array([-0.]))\n",
    "print(1/np.array([0]))\n",
    "\n",
    "print(1/np.copysign(0, 1))\n",
    "print(1/np.copysign(0, -1))"
   ]
  },
  {
   "cell_type": "markdown",
   "metadata": {},
   "source": []
  },
  {
   "cell_type": "markdown",
   "metadata": {},
   "source": [
    "### Appendix"
   ]
  },
  {
   "cell_type": "markdown",
   "metadata": {},
   "source": [
    "#### PyTorch and NumPy: Differences\n",
    "\n",
    "PyTorch, which is a popular tool for implementing neural networks, is also used as a scientific computing. The developers of PyTorch have emulated NumPy. But there are some different conventions for the same or similar functionalities. The primary reason for the change of names appears to make things more suggestive of what they really give.\n",
    "\n",
    "Setting: `arr` is a numpy array and `tsr` is a torch Tensor.\n",
    "\n",
    "| | NumPy | PyTorch |\n",
    "|---|---|---|\n",
    "| main object | `array` (`numpy.array`) | `tensor` (`torch.tensor`) |\n",
    "| total dimensionality | `arr.ndim` | `arr.ndim` |\n",
    "| organization of array | `arr.shape` | `tsr.size()`|\n",
    "| total number of entries | `arr.size` | `tsr.numel()`|"
   ]
  },
  {
   "cell_type": "code",
   "execution_count": 8,
   "metadata": {},
   "outputs": [
    {
     "name": "stdout",
     "output_type": "stream",
     "text": [
      "numpy arr:  [0 1 2 3 4]\n",
      "  - type:  <class 'numpy.ndarray'>\n",
      "  - shape:  (5,)\n",
      "  - size:  5\n",
      "  - ndim:  1\n",
      "torch tsr:  tensor([0, 1, 2, 3, 4])\n",
      "  - type:  <class 'torch.Tensor'>\n",
      "  - shape:  torch.Size([5])\n",
      "  - size():  torch.Size([5])\n",
      "  - size:  <built-in method size of Tensor object at 0x7fc2213a5950>\n",
      "  -nelm:  5\n",
      "  - ndim:  1\n"
     ]
    }
   ],
   "source": [
    "import torch as tc\n",
    "import numpy as np\n",
    "\n",
    "arr = np.arange(5)\n",
    "tsr = tc.from_numpy(arr)\n",
    "\n",
    "print(\"numpy arr: \", arr)\n",
    "print(\"  - type: \", type(arr))\n",
    "print(\"  - ndim: \", arr.ndim)\n",
    "print(\"  - shape: \", arr.shape)\n",
    "print(\"  - size: \", arr.size)\n",
    "\n",
    "print(\"torch tsr: \", tsr)\n",
    "print(\"  - type: \", type(tsr))\n",
    "print(\"  - ndim: \", tsr.ndim)\n",
    "print(\"  - shape: \", tsr.shape)\n",
    "print(\"  - size(): \", tsr.size())\n",
    "print(\"  - size: \", tsr.size)\n",
    "print(\"  - nelm: \", tsr.numel())\n"
   ]
  }
 ],
 "metadata": {
  "kernelspec": {
   "display_name": "ptrch",
   "language": "python",
   "name": "ptrch"
  },
  "language_info": {
   "codemirror_mode": {
    "name": "ipython",
    "version": 3
   },
   "file_extension": ".py",
   "mimetype": "text/x-python",
   "name": "python",
   "nbconvert_exporter": "python",
   "pygments_lexer": "ipython3",
   "version": "3.8.13"
  },
  "orig_nbformat": 4
 },
 "nbformat": 4,
 "nbformat_minor": 2
}

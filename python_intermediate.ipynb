{
 "cells": [
  {
   "cell_type": "markdown",
   "metadata": {},
   "source": [
    "## Python intermediate for scientific computing"
   ]
  },
  {
   "cell_type": "markdown",
   "metadata": {},
   "source": [
    "### About\n",
    "\n",
    "- This tutorial builds on [`python_basics.ipynb`](https://github.com/jhparkyb/NumAnalNotes_Pub/blob/master/computations/python_basics.ipynb). \n",
    "- `python_intermediate.ipynb` collects tools geared towards a more detailed needs while `python_basics.ipynb` is a quick start toolbox for an Introductory Numerical Analysis course. \n",
    "\n",
    "Author: Jea-Hyun Park\n",
    "\n"
   ]
  },
  {
   "cell_type": "markdown",
   "metadata": {},
   "source": [
    "### License\n",
    "\n",
    "This work is licensed under [Creative Commons Attribution-ShareAlike 4.0 International](https://creativecommons.org/licenses/by-sa/4.0/). \n",
    "\n",
    "Part of the content of this notebook is borrowed from various reference, which are linked for more details. Thanks to all great contributors."
   ]
  },
  {
   "cell_type": "markdown",
   "metadata": {},
   "source": [
    "##### `dict.pop()` returns removed value\n",
    "\n",
    "- `.pop(key)` deletes the item corresponding to `key`\n",
    "- `.pop(key)` returns the removed value."
   ]
  },
  {
   "cell_type": "code",
   "execution_count": 2,
   "metadata": {},
   "outputs": [
    {
     "name": "stdout",
     "output_type": "stream",
     "text": [
      "{'name': 'Harry', 'city': 'Goleta'}\n",
      "{'city': 'Goleta'}\n",
      "Harry\n"
     ]
    }
   ],
   "source": [
    "\n",
    "# Dict can start with empty and add entries later\n",
    "student = {}\n",
    "student[\"name\"] = \"Harry\"\n",
    "student[\"city\"] = \"Goleta\"\n",
    "print(student)\n",
    "\n",
    "# `pop` method, which returns the value of the popped item\n",
    "name_popped = student.pop('name')\n",
    "print(student)\n",
    "print(name_popped)"
   ]
  },
  {
   "cell_type": "markdown",
   "metadata": {},
   "source": [
    "##### Combine `dict`s using unpaccking\n",
    "\n",
    "I learned this from the source code of [`matplotlib.ticker.MaxNLocator`](https://matplotlib.org/stable/api/ticker_api.html#matplotlib.ticker.MaxNLocator)\n",
    "\n",
    "- We can combine two `dict`s using unpacking.\n",
    "- The **latter one overwrites** the former if there are **same keys**."
   ]
  },
  {
   "cell_type": "code",
   "execution_count": 2,
   "metadata": {},
   "outputs": [
    {
     "name": "stdout",
     "output_type": "stream",
     "text": [
      "{'a': 1, 'b': 3, 'c': 4}\n",
      "{'b': 2, 'c': 4, 'a': 1}\n"
     ]
    }
   ],
   "source": [
    "dic1 = {'a': 1, 'b': 2}\n",
    "dic2 = {'b': 3, 'c': 4}\n",
    "\n",
    "# combine two dict's using unpacking\n",
    "dic3 = {**dic1, **dic2}\n",
    "dic4 = {**dic2, **dic1}\n",
    "\n",
    "# if there are same keys, the latter one overwrites the former one\n",
    "print(dic3)\n",
    "print(dic4)"
   ]
  }
 ],
 "metadata": {
  "kernelspec": {
   "display_name": "ptrch",
   "language": "python",
   "name": "ptrch"
  },
  "language_info": {
   "codemirror_mode": {
    "name": "ipython",
    "version": 3
   },
   "file_extension": ".py",
   "mimetype": "text/x-python",
   "name": "python",
   "nbconvert_exporter": "python",
   "pygments_lexer": "ipython3",
   "version": "3.8.13"
  },
  "orig_nbformat": 4
 },
 "nbformat": 4,
 "nbformat_minor": 2
}
